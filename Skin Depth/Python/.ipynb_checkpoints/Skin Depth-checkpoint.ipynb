{
 "cells": [
  {
   "cell_type": "code",
   "execution_count": 4,
   "id": "b9bd5ae0",
   "metadata": {},
   "outputs": [],
   "source": [
    "import matplotlib.pyplot as plt\n",
    "import numpy as np"
   ]
  },
  {
   "cell_type": "code",
   "execution_count": 5,
   "id": "b8e2a377",
   "metadata": {},
   "outputs": [],
   "source": [
    "# Measured with a meter stick, unceratinly 0.5 mm\n",
    "solenoidLength = 389 # mm\n",
    "\n",
    "# Measured with a vernier calipers, uncertainty 0.05 mm\n",
    "# Note: External Diameter\n",
    "solenoidDiameter = 44 # mm"
   ]
  },
  {
   "cell_type": "markdown",
   "id": "f1341a1b",
   "metadata": {},
   "source": [
    "# Copper"
   ]
  },
  {
   "cell_type": "code",
   "execution_count": 6,
   "id": "d2bee45a",
   "metadata": {},
   "outputs": [],
   "source": [
    "# Average taken accross 5 measurements: 10,10,11,11,12\n",
    "copperTurns = 1212"
   ]
  },
  {
   "cell_type": "code",
   "execution_count": 110,
   "id": "f3b8e9b4",
   "metadata": {},
   "outputs": [
    {
     "name": "stdout",
     "output_type": "stream",
     "text": [
      "[0.06729 0.06394 0.06122 0.05721 0.05454 0.05179 0.04924 0.04668 0.04424\n",
      " 0.04185 0.04004 0.03784 0.03597 0.03375 0.03116 0.02919 0.02743 0.02595\n",
      " 0.02361 0.02181 0.02028 0.0187  0.01724 0.01564 0.01408 0.01209 0.01037\n",
      " 0.00855 0.00669]\n",
      "[62500. 60500. 58500. 56500. 54500. 52500. 50500. 48500. 46500. 44500.\n",
      " 42500. 40500. 38500. 36500. 34500. 32500. 30500. 28500. 26500. 24500.\n",
      " 22500. 20500. 18500. 16500. 14500. 12500. 10500.  8500.  6500.]\n"
     ]
    }
   ],
   "source": [
    "cData01 = np.loadtxt(\"copperData200922.txt\", skiprows=1)\n",
    "copperFrequency = np.array(cData01[:,0])\n",
    "copperVoltage = np.array(cData01[:,1])* 10**-3\n",
    "\n",
    "print(copperVoltage)\n",
    "print(copperFrequency)"
   ]
  },
  {
   "cell_type": "code",
   "execution_count": 111,
   "id": "2b307877",
   "metadata": {},
   "outputs": [],
   "source": [
    "c_vOverF = list()\n",
    "\n",
    "i = 0\n",
    "while i<len(copperVoltage):\n",
    "    c_vOverF.append(copperVoltage[i] / copperFrequency[i])\n",
    "    i+=1\n",
    "\n",
    "c_inverseF = [1/np.sqrt(el) for el in copperFrequency]"
   ]
  },
  {
   "cell_type": "code",
   "execution_count": 112,
   "id": "f7674dc8",
   "metadata": {},
   "outputs": [
    {
     "name": "stdout",
     "output_type": "stream",
     "text": [
      "11\n"
     ]
    }
   ],
   "source": [
    "# BLOCK PURELY FOR DEBUGGING\n",
    "freq=np.array([62500, 60500, 58500, 56500, 54500, 52500, 50500, 48500, 46500, 44500, 42500, 40500, 38500, 36500, 34500, 32500, 30500, 28500, 26500, 24500, 22500, 20500, 18500, 16500, 14500, 12500, 10500, 8500, 6500])\n",
    "volt=np.array([67.29, 63.94, 61.22, 57.21, 54.54, 51.79,49.24, 46.68,44.24, 41.85, 40.04, 37.84, 35.97, 33.75, 31.16, 29.19, 27.43, 25.95, 23.61, 21.81, 20.28, 18.7, 17.24, 15.64, 14.08, 12.09, 10.37, 8.55, 6.69])\n",
    "\n",
    "#plt.scatter(1/np.sqrt(freq), volt/freq)\n",
    "print(len(freq)-18)"
   ]
  },
  {
   "cell_type": "code",
   "execution_count": 113,
   "id": "c85a631f",
   "metadata": {},
   "outputs": [
    {
     "data": {
      "text/plain": [
       "<matplotlib.collections.PathCollection at 0x1594e07e8e0>"
      ]
     },
     "execution_count": 113,
     "metadata": {},
     "output_type": "execute_result"
    },
    {
     "data": {
      "image/png": "[encoded data removed]",
      "text/plain": [
       "<Figure size 432x288 with 1 Axes>"
      ]
     },
     "metadata": {
      "needs_background": "light"
     },
     "output_type": "display_data"
    }
   ],
   "source": [
    "plt.scatter(c_inverseF, c_vOverF)"
   ]
  },
  {
   "cell_type": "code",
   "execution_count": 116,
   "id": "4f899010",
   "metadata": {},
   "outputs": [
    {
     "data": {
      "text/plain": [
       "<matplotlib.collections.PathCollection at 0x1594f15f460>"
      ]
     },
     "execution_count": 116,
     "metadata": {},
     "output_type": "execute_result"
    },
    {
     "data": {
      "image/png": "[encoded data removed]",
      "text/plain": [
       "<Figure size 432x288 with 1 Axes>"
      ]
     },
     "metadata": {
      "needs_background": "light"
     },
     "output_type": "display_data"
    }
   ],
   "source": [
    "plt.scatter(copperFrequency, copperVoltage)"
   ]
  },
  {
   "cell_type": "code",
   "execution_count": 114,
   "id": "95303a75",
   "metadata": {},
   "outputs": [
    {
     "data": {
      "text/plain": [
       "<matplotlib.collections.PathCollection at 0x1594f0a86a0>"
      ]
     },
     "execution_count": 114,
     "metadata": {},
     "output_type": "execute_result"
    },
    {
     "data": {
      "image/png": "[encoded data removed]",
      "text/plain": [
       "<Figure size 432x288 with 1 Axes>"
      ]
     },
     "metadata": {
      "needs_background": "light"
     },
     "output_type": "display_data"
    }
   ],
   "source": [
    "plt.scatter(c_inverseF[18:], c_vOverF[18:]) # Need to adjust for units"
   ]
  },
  {
   "cell_type": "markdown",
   "id": "a6135cee",
   "metadata": {},
   "source": [
    "# Aluminium"
   ]
  },
  {
   "cell_type": "code",
   "execution_count": 120,
   "id": "955d5446",
   "metadata": {},
   "outputs": [
    {
     "name": "stdout",
     "output_type": "stream",
     "text": [
      "[0.04528 0.04215 0.04086 0.03826 0.03705 0.03555 0.03371 0.03255 0.03074\n",
      " 0.03032 0.02781 0.02721 0.02536 0.02466 0.02294 0.02228 0.02064 0.01996\n",
      " 0.01845 0.01787 0.01619 0.01536 0.01409 0.01324 0.01179 0.01071 0.00921\n",
      " 0.00793 0.00635]\n",
      "[62500. 60500. 58500. 56500. 54500. 52500. 50500. 48500. 46500. 44500.\n",
      " 42500. 40500. 38500. 36500. 34500. 32500. 30500. 28500. 26500. 24500.\n",
      " 22500. 20500. 18500. 16500. 14500. 12500. 10500.  8500.  6500.]\n"
     ]
    }
   ],
   "source": [
    "aData01 = np.loadtxt(\"aluminiumData200922.txt\", skiprows=1)\n",
    "aluFrequency = np.array(aData01[:,0])\n",
    "aluVoltage = np.array(aData01[:,1])* 10**-3\n",
    "\n",
    "print(aluVoltage)\n",
    "print(aluFrequency)"
   ]
  },
  {
   "cell_type": "code",
   "execution_count": 121,
   "id": "e247e579",
   "metadata": {},
   "outputs": [],
   "source": [
    "a_vOverF = list()\n",
    "\n",
    "i = 0\n",
    "while i<len(aluVoltage):\n",
    "    a_vOverF.append(aluVoltage[i] / aluFrequency[i])\n",
    "    i+=1\n",
    "\n",
    "a_inverseF = [1/np.sqrt(el) for el in aluFrequency]"
   ]
  },
  {
   "cell_type": "code",
   "execution_count": 122,
   "id": "028d5e4b",
   "metadata": {},
   "outputs": [
    {
     "data": {
      "text/plain": [
       "<matplotlib.collections.PathCollection at 0x1594f213550>"
      ]
     },
     "execution_count": 122,
     "metadata": {},
     "output_type": "execute_result"
    },
    {
     "data": {
      "image/png": "[encoded data removed]",
      "text/plain": [
       "<Figure size 432x288 with 1 Axes>"
      ]
     },
     "metadata": {
      "needs_background": "light"
     },
     "output_type": "display_data"
    }
   ],
   "source": [
    "plt.scatter(a_inverseF, a_vOverF)"
   ]
  },
  {
   "cell_type": "markdown",
   "id": "3f961513",
   "metadata": {},
   "source": [
    "# Brass"
   ]
  },
  {
   "cell_type": "code",
   "execution_count": 123,
   "id": "1a343aba",
   "metadata": {},
   "outputs": [
    {
     "name": "stdout",
     "output_type": "stream",
     "text": [
      "[0.04528 0.04215 0.04086 0.03826 0.03705 0.03555 0.03371 0.03255 0.03074\n",
      " 0.03032 0.02781 0.02721 0.02536 0.02466 0.02294 0.02228 0.02064 0.01996\n",
      " 0.01845 0.01787 0.01619 0.01536 0.01409 0.01324 0.01179 0.01071 0.00921\n",
      " 0.00793 0.00635]\n",
      "[62500. 60500. 58500. 56500. 54500. 52500. 50500. 48500. 46500. 44500.\n",
      " 42500. 40500. 38500. 36500. 34500. 32500. 30500. 28500. 26500. 24500.\n",
      " 22500. 20500. 18500. 16500. 14500. 12500. 10500.  8500.  6500.]\n"
     ]
    }
   ],
   "source": [
    "bData01 = np.loadtxt(\"brassData200922.txt\", skiprows=1)\n",
    "braFrequency = np.array(aData01[:,0])\n",
    "braVoltage = np.array(aData01[:,1])* 10**-3\n",
    "\n",
    "print(braVoltage)\n",
    "print(braFrequency)"
   ]
  },
  {
   "cell_type": "code",
   "execution_count": 125,
   "id": "883d7440",
   "metadata": {},
   "outputs": [],
   "source": [
    "b_vOverF = list()\n",
    "\n",
    "i = 0\n",
    "while i<len(braVoltage):\n",
    "    b_vOverF.append(braVoltage[i] / braFrequency[i])\n",
    "    i+=1\n",
    "\n",
    "b_inverseF = [1/np.sqrt(el) for el in braFrequency]"
   ]
  },
  {
   "cell_type": "code",
   "execution_count": 126,
   "id": "65a61837",
   "metadata": {},
   "outputs": [
    {
     "data": {
      "text/plain": [
       "<matplotlib.collections.PathCollection at 0x1594f268d00>"
      ]
     },
     "execution_count": 126,
     "metadata": {},
     "output_type": "execute_result"
    },
    {
     "data": {
      "image/png": "[encoded data removed]",
      "text/plain": [
       "<Figure size 432x288 with 1 Axes>"
      ]
     },
     "metadata": {
      "needs_background": "light"
     },
     "output_type": "display_data"
    }
   ],
   "source": [
    "plt.scatter(b_inverseF, b_vOverF)"
   ]
  },
  {
   "cell_type": "code",
   "execution_count": null,
   "id": "3a93112e",
   "metadata": {},
   "outputs": [],
   "source": []
  }
 ],
 "metadata": {
  "kernelspec": {
   "display_name": "Python 3",
   "language": "python",
   "name": "python3"
  },
  "language_info": {
   "codemirror_mode": {
    "name": "ipython",
    "version": 3
   },
   "file_extension": ".py",
   "mimetype": "text/x-python",
   "name": "python",
   "nbconvert_exporter": "python",
   "pygments_lexer": "ipython3",
   "version": "3.8.8"
  }
 },
 "nbformat": 4,
 "nbformat_minor": 5
}
