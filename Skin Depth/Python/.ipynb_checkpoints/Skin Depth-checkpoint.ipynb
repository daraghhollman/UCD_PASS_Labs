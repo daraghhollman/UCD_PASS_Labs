{
 "cells": [
  {
   "cell_type": "code",
   "execution_count": 8,
   "id": "b9bd5ae0",
   "metadata": {},
   "outputs": [],
   "source": [
    "import matplotlib.pyplot as plt\n",
    "import numpy as np"
   ]
  },
  {
   "cell_type": "code",
   "execution_count": 5,
   "id": "b8e2a377",
   "metadata": {},
   "outputs": [],
   "source": [
    "# Measured with a meter stick, unceratinly 0.5 mm\n",
    "solenoidLength = 389 # mm\n",
    "\n",
    "# Measured with a vernier calipers, uncertainty 0.05 mm\n",
    "# Note: External Diameter\n",
    "solenoidDiameter = 44 # mm"
   ]
  },
  {
   "cell_type": "code",
   "execution_count": 6,
   "id": "d2bee45a",
   "metadata": {},
   "outputs": [],
   "source": [
    "# Average taken accross 5 measurements: 10,10,11,11,12\n",
    "copperTurns = 1212"
   ]
  },
  {
   "cell_type": "code",
   "execution_count": 1,
   "id": "f3b8e9b4",
   "metadata": {},
   "outputs": [],
   "source": [
    "frequency = [625000, 28000, 6500]\n",
    "voltage = [63.45, 24.72, 6.81]"
   ]
  },
  {
   "cell_type": "code",
   "execution_count": 9,
   "id": "2b307877",
   "metadata": {},
   "outputs": [
    {
     "name": "stdout",
     "output_type": "stream",
     "text": [
      "[0.00010152, 0.0008828571428571428, 0.0010476923076923076]\n",
      "[0.0012649110640673518, 0.005976143046671968, 0.012403473458920846]\n"
     ]
    }
   ],
   "source": [
    "# Plotting Vv^-1 against v^-1/2\n",
    "\n",
    "voltOverFreq = [0]*len(voltage)\n",
    "i=0\n",
    "while i < len(voltage):\n",
    "    voltOverFreq[i] = voltage[i] / frequency[i]\n",
    "    i+=1\n",
    "\n",
    "print(voltOverFreq)\n",
    "\n",
    "inverseRootFreq = [1 / np.sqrt(el) for el in frequency]\n",
    "print(inverseRootFreq)"
   ]
  },
  {
   "cell_type": "code",
   "execution_count": 19,
   "id": "95303a75",
   "metadata": {},
   "outputs": [
    {
     "data": {
      "text/plain": [
       "<matplotlib.collections.PathCollection at 0x20f54985760>"
      ]
     },
     "execution_count": 19,
     "metadata": {},
     "output_type": "execute_result"
    },
    {
     "data": {
      "image/png": "[encoded data removed]",
      "text/plain": [
       "<Figure size 432x288 with 1 Axes>"
      ]
     },
     "metadata": {
      "needs_background": "light"
     },
     "output_type": "display_data"
    }
   ],
   "source": [
    "plt.scatter(inverseRootFreq, voltOverFreq) # Need to adjust for units"
   ]
  },
  {
   "cell_type": "code",
   "execution_count": null,
   "id": "0a0aa523",
   "metadata": {},
   "outputs": [],
   "source": []
  }
 ],
 "metadata": {
  "kernelspec": {
   "display_name": "Python 3",
   "language": "python",
   "name": "python3"
  },
  "language_info": {
   "codemirror_mode": {
    "name": "ipython",
    "version": 3
   },
   "file_extension": ".py",
   "mimetype": "text/x-python",
   "name": "python",
   "nbconvert_exporter": "python",
   "pygments_lexer": "ipython3",
   "version": "3.8.8"
  }
 },
 "nbformat": 4,
 "nbformat_minor": 5
}
