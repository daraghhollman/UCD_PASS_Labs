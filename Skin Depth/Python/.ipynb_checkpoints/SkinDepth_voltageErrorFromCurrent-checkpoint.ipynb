{
 "cells": [
  {
   "cell_type": "code",
   "execution_count": 17,
   "id": "8b08f1c8",
   "metadata": {},
   "outputs": [],
   "source": [
    "import matplotlib.pyplot as plt\n",
    "import numpy as np\n",
    "from scipy.optimize import curve_fit\n",
    "\n",
    "# The below commands make the font and image size bigger\n",
    "plt.rcParams.update({'font.size': 26})\n",
    "plt.rcParams[\"figure.figsize\"] = (10,8)"
   ]
  },
  {
   "cell_type": "markdown",
   "id": "c2324719",
   "metadata": {},
   "source": [
    "# Copper"
   ]
  },
  {
   "cell_type": "code",
   "execution_count": 18,
   "id": "8dff284a",
   "metadata": {},
   "outputs": [],
   "source": [
    "#6.5 kHz\n",
    "current, voltage = np.loadtxt(\"voltErr_6.5kHz.txt\", skiprows=1, unpack=True)\n",
    "\n",
    "def linearFit(x, m, c):\n",
    "    return m*x + c\n",
    "\n",
    "pars6, cov6 = curve_fit(linearFit, current, voltage)"
   ]
  },
  {
   "cell_type": "code",
   "execution_count": 25,
   "id": "47a05a35",
   "metadata": {},
   "outputs": [],
   "source": [
    "#plt.scatter(current, voltage)\n",
    "#plt.plot(np.arange(18, 20, 0.1), linearFit(np.arange(18, 20, 0.1), pars6[0], pars6[1]), color=\"orange\")"
   ]
  },
  {
   "cell_type": "code",
   "execution_count": 27,
   "id": "53b55d7f",
   "metadata": {},
   "outputs": [],
   "source": [
    "#15 kHz\n",
    "current15, voltage15 = np.loadtxt(\"voltErr_15kHz.txt\", skiprows=1, unpack=True)\n",
    "pars15, cov15 = curve_fit(linearFit, current15, voltage15)\n",
    "\n",
    "#plt.scatter(current15, voltage15)\n",
    "#plt.plot(np.arange(18, 20, 0.1), linearFit(np.arange(18, 20, 0.1), pars15[0], pars15[1]), color=\"orange\")"
   ]
  },
  {
   "cell_type": "code",
   "execution_count": 24,
   "id": "06aed2ad",
   "metadata": {},
   "outputs": [],
   "source": [
    "#30 kHz\n",
    "current30, voltage30 = np.loadtxt(\"voltErr_30kHz.txt\", skiprows=1, unpack=True)\n",
    "pars30, cov30 = curve_fit(linearFit, current30, voltage30)\n",
    "\n",
    "#plt.scatter(current30, voltage30)\n",
    "#plt.plot(np.arange(18, 20, 0.1), linearFit(np.arange(18, 20, 0.1), pars30[0], pars30[1]), color=\"orange\")"
   ]
  },
  {
   "cell_type": "code",
   "execution_count": 44,
   "id": "32411769",
   "metadata": {},
   "outputs": [],
   "source": [
    "#40 kHz\n",
    "current40, voltage40 = np.loadtxt(\"voltErr_40kHz.txt\", skiprows=1, unpack=True)\n",
    "pars40, cov40 = curve_fit(linearFit, current40, voltage40)\n",
    "\n",
    "#plt.scatter(current40, voltage40)\n",
    "#plt.plot(np.arange(18, 20, 0.1), linearFit(np.arange(18, 20, 0.1), pars40[0], pars40[1]), color=\"orange\")"
   ]
  },
  {
   "cell_type": "code",
   "execution_count": 43,
   "id": "008a70af",
   "metadata": {},
   "outputs": [
    {
     "name": "stdout",
     "output_type": "stream",
     "text": [
      "[0.04916692007540302, 0.06841721320684169, 0.13091815376812654, 0.17377456901789046]\n"
     ]
    }
   ],
   "source": [
    "# Testing if the range is the same irrespective of frequency\n",
    "\n",
    "uncertainties = list()\n",
    "\n",
    "# printing half the range, ie. the uncertainty\n",
    "# this is done for several frequencies to test if linear\n",
    "uncertainties.append((linearFit(19.1, pars6[0], pars6[1]) - linearFit(18.9, pars6[0], pars6[1])) / 2)\n",
    "uncertainties.append((linearFit(19.1, pars15[0], pars15[1]) - linearFit(18.9, pars15[0], pars15[1])) / 2)\n",
    "uncertainties.append((linearFit(19.1, pars30[0], pars30[1]) - linearFit(18.9, pars30[0], pars30[1])) / 2)\n",
    "uncertainties.append((linearFit(19.1, pars40[0], pars40[1]) - linearFit(18.9, pars40[0], pars40[1])) / 2)\n",
    "\n",
    "print(uncertainties)"
   ]
  },
  {
   "cell_type": "markdown",
   "id": "29c152ad",
   "metadata": {},
   "source": [
    "# Aluminium"
   ]
  },
  {
   "cell_type": "code",
   "execution_count": 46,
   "id": "b7461b3d",
   "metadata": {},
   "outputs": [],
   "source": [
    "#10 kHz\n",
    "a_current10, a_voltage10 = np.loadtxt(\"voltErr_alu_10.txt\", skiprows=1, unpack=True)\n",
    "a_pars10, a_cov10 = curve_fit(linearFit, a_current10, a_voltage10)"
   ]
  },
  {
   "cell_type": "code",
   "execution_count": 47,
   "id": "629b3715",
   "metadata": {},
   "outputs": [],
   "source": [
    "#20 kHz\n",
    "a_current20, a_voltage20 = np.loadtxt(\"voltErr_alu_20.txt\", skiprows=1, unpack=True)\n",
    "a_pars20, a_cov20 = curve_fit(linearFit, a_current20, a_voltage20)"
   ]
  },
  {
   "cell_type": "code",
   "execution_count": 48,
   "id": "8958d37d",
   "metadata": {},
   "outputs": [],
   "source": [
    "#30 kHz\n",
    "a_current30, a_voltage30 = np.loadtxt(\"voltErr_alu_30.txt\", skiprows=1, unpack=True)\n",
    "a_pars30, a_cov30 = curve_fit(linearFit, a_current30, a_voltage30)"
   ]
  },
  {
   "cell_type": "code",
   "execution_count": 49,
   "id": "d8115393",
   "metadata": {},
   "outputs": [],
   "source": [
    "#40 kHz\n",
    "a_current40, a_voltage40 = np.loadtxt(\"voltErr_alu_40.txt\", skiprows=1, unpack=True)\n",
    "a_pars40, a_cov40 = curve_fit(linearFit, a_current40, a_voltage40)"
   ]
  },
  {
   "cell_type": "code",
   "execution_count": 50,
   "id": "9594dbc7",
   "metadata": {},
   "outputs": [
    {
     "name": "stdout",
     "output_type": "stream",
     "text": [
      "[0.07034136916004297, 0.11132532464954714, 0.11995923611597625, 0.15736806755850097]\n"
     ]
    }
   ],
   "source": [
    "a_uncertainties = list()\n",
    "\n",
    "# printing half the range, ie. the uncertainty\n",
    "# this is done for several frequencies to test if linear\n",
    "a_uncertainties.append((linearFit(19.1, a_pars10[0], a_pars10[1]) - linearFit(18.9, a_pars10[0], a_pars10[1])) / 2)\n",
    "a_uncertainties.append((linearFit(19.1, a_pars20[0], a_pars20[1]) - linearFit(18.9, a_pars20[0], a_pars20[1])) / 2)\n",
    "a_uncertainties.append((linearFit(19.1, a_pars30[0], a_pars30[1]) - linearFit(18.9, a_pars30[0], a_pars30[1])) / 2)\n",
    "a_uncertainties.append((linearFit(19.1, a_pars40[0], a_pars40[1]) - linearFit(18.9, a_pars40[0], a_pars40[1])) / 2)\n",
    "\n",
    "print(a_uncertainties)"
   ]
  },
  {
   "cell_type": "markdown",
   "id": "bd3f5840",
   "metadata": {},
   "source": [
    "# Brass"
   ]
  },
  {
   "cell_type": "code",
   "execution_count": 51,
   "id": "3f5a04e7",
   "metadata": {},
   "outputs": [],
   "source": [
    "#10 kHz\n",
    "b_current10, b_voltage10 = np.loadtxt(\"voltErr_bra_10.txt\", skiprows=1, unpack=True)\n",
    "b_pars10, b_cov10 = curve_fit(linearFit, b_current10, b_voltage10)"
   ]
  },
  {
   "cell_type": "code",
   "execution_count": 52,
   "id": "be6cfca5",
   "metadata": {},
   "outputs": [],
   "source": [
    "#20 kHz\n",
    "b_current20, b_voltage20 = np.loadtxt(\"voltErr_bra_20.txt\", skiprows=1, unpack=True)\n",
    "b_pars20, b_cov20 = curve_fit(linearFit, b_current20, b_voltage20)"
   ]
  },
  {
   "cell_type": "code",
   "execution_count": 53,
   "id": "18e5c297",
   "metadata": {},
   "outputs": [],
   "source": [
    "#30 kHz\n",
    "b_current30, b_voltage30 = np.loadtxt(\"voltErr_bra_30.txt\", skiprows=1, unpack=True)\n",
    "b_pars30, b_cov30 = curve_fit(linearFit, b_current30, b_voltage30)"
   ]
  },
  {
   "cell_type": "code",
   "execution_count": 54,
   "id": "a789a7ba",
   "metadata": {},
   "outputs": [],
   "source": [
    "#40 kHz\n",
    "b_current40, b_voltage40 = np.loadtxt(\"voltErr_bra_40.txt\", skiprows=1, unpack=True)\n",
    "b_pars40, b_cov40 = curve_fit(linearFit, b_current40, b_voltage40)"
   ]
  },
  {
   "cell_type": "code",
   "execution_count": 37,
   "id": "795a4c4a",
   "metadata": {},
   "outputs": [],
   "source": [
    "def uncertainty(frequency):\n",
    "    errPars, errCov = curve_fit(linearFit, frequencies, uncertainties)\n",
    "    \n",
    "    return errPars[0] * frequency + errPars[1]"
   ]
  }
 ],
 "metadata": {
  "kernelspec": {
   "display_name": "Python 3",
   "language": "python",
   "name": "python3"
  },
  "language_info": {
   "codemirror_mode": {
    "name": "ipython",
    "version": 3
   },
   "file_extension": ".py",
   "mimetype": "text/x-python",
   "name": "python",
   "nbconvert_exporter": "python",
   "pygments_lexer": "ipython3",
   "version": "3.8.8"
  }
 },
 "nbformat": 4,
 "nbformat_minor": 5
}
