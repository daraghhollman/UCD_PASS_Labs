{
 "cells": [
  {
   "cell_type": "code",
   "execution_count": 5,
   "id": "b8e2a377",
   "metadata": {},
   "outputs": [],
   "source": [
    "# Measured with a meter stick, unceratinly 0.5 mm\n",
    "solenoidLength = 389 # mm\n",
    "\n",
    "# Measured with a vernier calipers, uncertainty 0.05 mm\n",
    "# Note: External Diameter\n",
    "solenoidDiameter = 44 # mm"
   ]
  },
  {
   "cell_type": "code",
   "execution_count": 6,
   "id": "d2bee45a",
   "metadata": {},
   "outputs": [],
   "source": [
    "# Average taken accross 5 measurements: 10,10,11,11,12\n",
    "copperTurns = 1212"
   ]
  },
  {
   "cell_type": "code",
   "execution_count": null,
   "id": "f3b8e9b4",
   "metadata": {},
   "outputs": [],
   "source": [
    "frequency = [625000, 28000, 6500]\n",
    "voltage = [63.45, 24.72, 6.81]"
   ]
  }
 ],
 "metadata": {
  "kernelspec": {
   "display_name": "Python 3",
   "language": "python",
   "name": "python3"
  },
  "language_info": {
   "codemirror_mode": {
    "name": "ipython",
    "version": 3
   },
   "file_extension": ".py",
   "mimetype": "text/x-python",
   "name": "python",
   "nbconvert_exporter": "python",
   "pygments_lexer": "ipython3",
   "version": "3.8.8"
  }
 },
 "nbformat": 4,
 "nbformat_minor": 5
}
