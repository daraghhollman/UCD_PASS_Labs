{
 "cells": [
  {
   "cell_type": "code",
   "execution_count": 1,
   "id": "553745d0",
   "metadata": {},
   "outputs": [],
   "source": [
    "# Importing packages\n",
    "\n",
    "from astropy.io import fits # For handling fits files\n",
    "from glob import glob # to search for file paths under similar names\n",
    "\n",
    "import numpy as np\n",
    "from matplotlib import pyplot as plt"
   ]
  },
  {
   "cell_type": "markdown",
   "id": "b4cf22e4",
   "metadata": {},
   "source": [
    "# Importing all data"
   ]
  },
  {
   "cell_type": "code",
   "execution_count": 2,
   "id": "dc8e18b9",
   "metadata": {},
   "outputs": [],
   "source": [
    "rootPath = r\"/home/daraghhollman/jupyter/UCD_PASS_Labs/Astronomy_Image_Analysis\""
   ]
  },
  {
   "cell_type": "markdown",
   "id": "c8a8b514",
   "metadata": {},
   "source": [
    "## M91"
   ]
  },
  {
   "cell_type": "code",
   "execution_count": 3,
   "id": "e38e8ae6",
   "metadata": {},
   "outputs": [],
   "source": [
    "# Note each group of files is a list for each band\n",
    "\n",
    "# Bias\n",
    "biasFiles_M91 = [glob(rootPath + r\"/data_2019/M91/bias/*.fits\")]\n",
    "\n",
    "# Flats\n",
    "flatsFiles_M91 = [\n",
    "    glob(rootPath + r\"/data_2019/M91/flats/B/*.fits\"),\n",
    "    glob(rootPath + r\"/data_2019/M91/flats/V/*.fits\"),\n",
    "    glob(rootPath + r\"/data_2019/M91/flats/Halpha_NII/*.fits\")\n",
    "]\n",
    "\n",
    "# Object\n",
    "objectFiles_M91 = [\n",
    "    glob(rootPath + r\"/data_2019/M91/object/B/*.fits\"),\n",
    "    glob(rootPath + r\"/data_2019/M91/object/V/*.fits\"),\n",
    "    glob(rootPath + r\"/data_2019/M91/object/Halpha_NII/*.fits\")\n",
    "]"
   ]
  },
  {
   "cell_type": "code",
   "execution_count": 4,
   "id": "68a90828",
   "metadata": {},
   "outputs": [],
   "source": [
    "# Load files using astropy.fits\n",
    "\n",
    "biasFITS_M91 = [fits.open(el) for el in biasFiles_M91[0]]\n",
    "\n",
    "flatFITS_M91 = [[fits.open(el) for el in flatsFiles_M91[0]], \\\n",
    "                [fits.open(el) for el in flatsFiles_M91[1]], \\\n",
    "                [fits.open(el) for el in flatsFiles_M91[2]]]\n",
    "\n",
    "objectFITS_M91 = [[fits.open(el) for el in objectFiles_M91[0]], \\\n",
    "                [fits.open(el) for el in objectFiles_M91[1]], \\\n",
    "                [fits.open(el) for el in objectFiles_M91[2]]]"
   ]
  },
  {
   "cell_type": "markdown",
   "id": "67918e85",
   "metadata": {},
   "source": [
    "## NNSer"
   ]
  },
  {
   "cell_type": "code",
   "execution_count": 5,
   "id": "91c8ea9c",
   "metadata": {},
   "outputs": [],
   "source": [
    "# Note, only frames of NNSer in the clear band.\n",
    "\n",
    "# Bias\n",
    "biasFiles_NNSer = [glob(rootPath + r\"/data_2019/NNSer/bias/*.fits\")]\n",
    "\n",
    "# Flats\n",
    "flatsFiles_NNSer = [glob(rootPath + r\"/data_2019/NNSer/flats/clear/*.fits\")]\n",
    "\n",
    "# Object\n",
    "objectFiles_NNSer = [glob(rootPath + r\"/data_2019/NNSer/object/clear/*.fits\")]"
   ]
  },
  {
   "cell_type": "code",
   "execution_count": 6,
   "id": "fdebedd0",
   "metadata": {},
   "outputs": [],
   "source": [
    "biasFITS_NNSer = [fits.open(el) for el in biasFiles_NNSer[0]]\n",
    "\n",
    "flatFITS_NNSer = [fits.open(el) for el in flatsFiles_NNSer[0]]\n",
    "\n",
    "objectFITS_NNSer = [fits.open(el) for el in objectFiles_NNSer[0]]"
   ]
  },
  {
   "cell_type": "markdown",
   "id": "67c1452c",
   "metadata": {},
   "source": [
    "# Data Reduction"
   ]
  },
  {
   "cell_type": "code",
   "execution_count": 10,
   "id": "e79ead9c",
   "metadata": {},
   "outputs": [],
   "source": [
    "# Read in the pixel values of each bias into an np array. \n",
    "# Find the average value of each pixel across all bias frames. \n",
    "# Assign each average pixel to a new file: masterBias.fits\n",
    "\n",
    "\n",
    "# Takes a list of arrays and returns an array with each element being\n",
    "# the average element of the list\n",
    "def createAvgArray(arraysList):\n",
    "    \n",
    "    arraySum = np.empty(np.shape(arraysList[0]))\n",
    "    \n",
    "    for array in arraysList:\n",
    "        arraySum += array\n",
    "\n",
    "    return arraySum / len(arraysList)\n",
    "\n",
    "# Converts a list of fits files into a list of arrays and passes it to the createAvgArray\n",
    "# function to get the masterBias\n",
    "def createMasterBias(biasList):\n",
    "    \n",
    "    arraysList = list()\n",
    "    \n",
    "    for el in biasList:\n",
    "        arraysList.append(el[0].data)\n",
    "    \n",
    "    avg = createAvgArray(arraysList)\n",
    "\n",
    "    return avg\n",
    "\n",
    "# Converts a list of fits files into a list of arrays, subtacting the masterBias,\n",
    "# and passes it to the createAvgArray function to get the masterFlat\n",
    "def createMasterFlat(flatsList, masterBias):\n",
    "    \n",
    "    arraysList = list()\n",
    "    \n",
    "    for el in flatsList:\n",
    "        arraysList.append(el[0].data - masterBias)\n",
    "    \n",
    "    avgArray = createAvgArray(arraysList)\n",
    "    \n",
    "    # normalisation, find the value at the centre and divide by it\n",
    "    xLength, yLength = np.shape(avgArray)\n",
    "    \n",
    "    normFac = avgArray[int(xLength/2)][int(yLength/2)]\n",
    "\n",
    "    return avgArray / normFac"
   ]
  },
  {
   "cell_type": "code",
   "execution_count": 11,
   "id": "421f14f4",
   "metadata": {},
   "outputs": [],
   "source": [
    "masterBias_M91 = createMasterBias(biasFITS_M91)\n",
    "masterBias_NNSer = createMasterBias(biasFITS_NNSer)"
   ]
  },
  {
   "cell_type": "code",
   "execution_count": 12,
   "id": "70fd54f5",
   "metadata": {},
   "outputs": [],
   "source": [
    "masterFlats_M91_B = createMasterFlat(flatFITS_M91[0], masterBias_M91)\n",
    "masterFlats_M91_V = createMasterFlat(flatFITS_M91[1], masterBias_M91)\n",
    "masterFlats_M91_Ha = createMasterFlat(flatFITS_M91[2], masterBias_M91)\n",
    "\n",
    "masterFlats_M91 = [masterFlats_M91_B, masterFlats_M91_V, masterFlats_M91_Ha]\n",
    "\n",
    "masterFlat_NNSer = createMasterFlat(flatFITS_NNSer, masterBias_NNSer)"
   ]
  },
  {
   "cell_type": "code",
   "execution_count": null,
   "id": "b418e9e2",
   "metadata": {},
   "outputs": [],
   "source": []
  }
 ],
 "metadata": {
  "kernelspec": {
   "display_name": "Python 3 (ipykernel)",
   "language": "python",
   "name": "python3"
  },
  "language_info": {
   "codemirror_mode": {
    "name": "ipython",
    "version": 3
   },
   "file_extension": ".py",
   "mimetype": "text/x-python",
   "name": "python",
   "nbconvert_exporter": "python",
   "pygments_lexer": "ipython3",
   "version": "3.10.6"
  }
 },
 "nbformat": 4,
 "nbformat_minor": 5
}
