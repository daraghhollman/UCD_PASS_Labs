{
 "cells": [
  {
   "cell_type": "code",
   "execution_count": 2,
   "metadata": {},
   "outputs": [],
   "source": [
    "import numpy as np\n",
    "import matplotlib.pyplot as plt\n",
    "from scipy.optimize import curve_fit\n",
    "\n",
    "# Change default colours to personal colour scheme\n",
    "import matplotlib as mpl\n",
    "mpl.rcParams['axes.prop_cycle'] = mpl.cycler(color=[\"indianred\", \"cornflowerblue\", \"mediumseagreen\", \"plum\", \"sandybrown\"]) "
   ]
  },
  {
   "cell_type": "code",
   "execution_count": 3,
   "metadata": {},
   "outputs": [],
   "source": [
    "rootPath = r\"/home/daraghhollman/Main/UCD_PASS_Labs/Electronics/Excercises\""
   ]
  },
  {
   "cell_type": "code",
   "execution_count": 4,
   "metadata": {},
   "outputs": [],
   "source": [
    "def LoadFile(path):\n",
    "    data = np.array(np.loadtxt(path, skiprows=2))\n",
    "    return data"
   ]
  },
  {
   "attachments": {},
   "cell_type": "markdown",
   "metadata": {},
   "source": [
    "# Exercise 5"
   ]
  },
  {
   "cell_type": "code",
   "execution_count": null,
   "metadata": {},
   "outputs": [],
   "source": [
    "def RC_Voltage(t, V_i, d, H):\n",
    "\n",
    "    if type(t) == list:\n",
    "        VOutput = []\n",
    "\n",
    "        for time in t:\n",
    "            V = V_i * np.exp(-time/(d)) + H\n",
    "            VOutput.append(V)\n",
    "    else:\n",
    "        VOutput = V_i * np.exp(-t/(d)) + H\n",
    "\n",
    "    return VOutput"
   ]
  },
  {
   "cell_type": "code",
   "execution_count": null,
   "metadata": {},
   "outputs": [],
   "source": [
    "ex5 = LoadFile(rootPath + r\"/ex5/ex5.txt\")\n",
    "ex5Sim = LoadFile(rootPath + r\"/ex5/sim.txt\")"
   ]
  },
  {
   "cell_type": "code",
   "execution_count": null,
   "metadata": {},
   "outputs": [],
   "source": [
    "plt.plot(ex5Sim[:,0], [el/2 for el in ex5Sim[:,1]], label=\"Simulation\")\n",
    "plt.grid()\n",
    "plt.legend()"
   ]
  },
  {
   "cell_type": "code",
   "execution_count": null,
   "metadata": {},
   "outputs": [],
   "source": [
    "def Ex5Plot(data):\n",
    "\n",
    "    xValues = [el - min(data[:,0]) for el in data[:,0]]\n",
    "    channel01 = data[:,1]\n",
    "    channel02 = data[:,2]\n",
    "\n",
    "    fig, axes = plt.subplots(2,1, figsize=(6, 8))\n",
    "\n",
    "    axes[0].plot(xValues, channel01, label=\"Channel 1\")\n",
    "    axes[0].plot(xValues, channel02, label=\"Channel 2\")\n",
    "\n",
    "    axes[1].set_xlim((0, 0.025))\n",
    "    axes[1].plot(xValues, channel01, label=\"Channel 1\")\n",
    "    axes[1].plot(xValues, channel02, label=\"Channel 2\")\n",
    "    axes[1].plot(xValues, RC_Voltage(xValues, 5, 1e3, 1e-6, 0), label=\"Analytical Solution\")\n",
    "\n",
    "    for i in range(len(axes)):\n",
    "        axes[i].set_xlabel(\"Time (s)\")\n",
    "        axes[i].set_ylabel(\"Voltage (V)\")\n",
    "        axes[i].grid()\n",
    "        axes[i].legend()"
   ]
  },
  {
   "cell_type": "code",
   "execution_count": null,
   "metadata": {},
   "outputs": [],
   "source": [
    "Ex5Plot(ex5)"
   ]
  },
  {
   "cell_type": "code",
   "execution_count": null,
   "metadata": {},
   "outputs": [],
   "source": [
    "# Calculate and compare decay constants\n",
    "def AnalyticalDecayConstant(R, C):\n",
    "    return 1 / (R*C)\n",
    "\n",
    "analyticalDecayConstant = AnalyticalDecayConstant(1e3, 1e-6)"
   ]
  },
  {
   "cell_type": "code",
   "execution_count": null,
   "metadata": {},
   "outputs": [],
   "source": [
    "def CalculateDecayConstant(data, plotData=False, plotFit=False):\n",
    "    tValues = [el - min(data[:,0]) for el in data[:,0]]\n",
    "\n",
    "    channel01 = data[:,1]\n",
    "    channel02 = data[:,2]\n",
    "    \n",
    "    pars, cov = curve_fit(RC_Voltage, tValues[0:250], channel02[0:250], [5, 1e-3, 0])\n",
    "\n",
    "    if plotData:\n",
    "        plt.plot(tValues[0:250], channel02[0:250], label=\"Data\")\n",
    "    \n",
    "    if plotFit:\n",
    "        plt.plot(tValues[0:250], RC_Voltage(tValues[0:250], pars[0], pars[1], pars[2]))\n",
    "\n",
    "    if plotData or plotFit:\n",
    "        plt.xlabel(\"Time (s)\")\n",
    "        plt.ylabel(\"Voltage (V)\")\n",
    "        plt.grid()\n",
    "        plt.legend()\n",
    "\n",
    "    decayConstant = 1 / (pars[1])\n",
    "    print(pars)\n",
    "    print(cov)\n",
    "    return decayConstant\n",
    "\n",
    "measuredDecayConstant = CalculateDecayConstant(ex5, plotData=True, plotFit=True)"
   ]
  },
  {
   "cell_type": "code",
   "execution_count": 26,
   "metadata": {},
   "outputs": [
    {
     "name": "stdout",
     "output_type": "stream",
     "text": [
      "[ 9.57363572e+01  9.87280306e-04 -2.18435123e-02]\n",
      "[[ 8.59273548e-01 -3.72427125e-06  2.36644431e-03]\n",
      " [-3.72427125e-06  1.64580096e-11 -1.27551292e-08]\n",
      " [ 2.36644431e-03 -1.27551292e-08  5.29188536e-05]]\n"
     ]
    },
    {
     "data": {
      "image/png": "[encoded data removed]",
      "text/plain": [
       "<Figure size 640x480 with 1 Axes>"
      ]
     },
     "metadata": {},
     "output_type": "display_data"
    }
   ],
   "source": [
    "ex5SimData = LoadFile(rootPath + r\"/ex5/sim.txt\")\n",
    "\n",
    "def SimDecayConstant(data, plotData=False, plotFit=False):\n",
    "    \n",
    "    tValues = [el - min(data[:,0]) for el in data[:,0]][10:40]\n",
    "\n",
    "    channel01 = data[:,1][10:40]\n",
    "    channel02 = data[:,2][10:40]\n",
    "    \n",
    "    pars, cov = curve_fit(RC_Voltage, tValues, channel01, [5, 1e-3, 0])\n",
    "\n",
    "    if plotData:\n",
    "        plt.plot(tValues, channel01, label=\"Data\")\n",
    "    \n",
    "    if plotFit:\n",
    "        plt.plot(tValues, RC_Voltage(tValues, pars[0], pars[1], pars[2]))\n",
    "\n",
    "    if plotData or plotFit:\n",
    "        plt.xlabel(\"Time (s)\")\n",
    "        plt.ylabel(\"Voltage (V)\")\n",
    "        plt.grid()\n",
    "        plt.legend()\n",
    "\n",
    "    decayConstant = 1 / (pars[1])\n",
    "    print(pars)\n",
    "    print(cov)\n",
    "    return decayConstant\n",
    "\n",
    "simDecayConstant = SimDecayConstant(ex5SimData, plotData=True, plotFit=True)"
   ]
  },
  {
   "cell_type": "code",
   "execution_count": 27,
   "metadata": {},
   "outputs": [
    {
     "name": "stdout",
     "output_type": "stream",
     "text": [
      "Decay Constants:\n",
      "Measured: 895.9265366569717\n",
      "Analytical: 1000.0\n",
      "Simulated: 1012.8835687223026\n"
     ]
    }
   ],
   "source": [
    "print(f\"Decay Constants:\\nMeasured: {measuredDecayConstant}\\nAnalytical: {analyticalDecayConstant}\\nSimulated: {simDecayConstant}\")"
   ]
  },
  {
   "attachments": {},
   "cell_type": "markdown",
   "metadata": {},
   "source": [
    "# Exercise 7"
   ]
  },
  {
   "attachments": {},
   "cell_type": "markdown",
   "metadata": {},
   "source": [
    "https://web.stanford.edu/class/archive/engr/engr40m.1178/reader/chapter7.pdf\n",
    "http://www.ee.ic.ac.uk/pcheung/teaching/de1_ee/Lectures/Lecture%208%20-%20Frequency%20Response%20(x2).pdf"
   ]
  },
  {
   "cell_type": "code",
   "execution_count": 5,
   "metadata": {},
   "outputs": [],
   "source": [
    "phaseAmpMeasuredData = LoadFile(rootPath + r\"/ex7/phaseAmplitude.txt\")\n",
    "gainSimData = LoadFile(rootPath + r\"/ex7/gainSim.txt\")\n",
    "phaseSimData = LoadFile(rootPath + r\"/ex7/phaseSim.txt\")"
   ]
  },
  {
   "cell_type": "code",
   "execution_count": 6,
   "metadata": {},
   "outputs": [],
   "source": [
    "def MeasuredGain(V2, V1):\n",
    "    return 20 * np.log10(V2/V1)\n",
    "\n",
    "def AnalyticalPhase(frequency, R, C):\n",
    "    return (180/np.pi)*np.arctan(1 / (np.pi*2*frequency * R * C))\n",
    "\n",
    "def AnalyticalGain(frequency, R, C):\n",
    "    return (2*np.pi*frequency * R * C) / np.sqrt(1 + (2*np.pi*frequency * R * C)**2)"
   ]
  },
  {
   "cell_type": "code",
   "execution_count": 7,
   "metadata": {},
   "outputs": [
    {
     "data": {
      "image/png": "[encoded data removed]",
      "text/plain": [
       "<Figure size 600x800 with 2 Axes>"
      ]
     },
     "metadata": {},
     "output_type": "display_data"
    }
   ],
   "source": [
    "def BodePlot(data, simGainData, simPhaseData):\n",
    "    frequency = data[:,0]\n",
    "    simGainFrequency = simGainData[:,0]\n",
    "    simPhaseFrequency = simPhaseData[:,0]\n",
    "\n",
    "    fRange = np.arange(np.min(frequency), np.max(frequency), 10)\n",
    "\n",
    "    amplitude = data[:,1]\n",
    "    gain = [MeasuredGain(V2=voltage, V1=1) for voltage in amplitude]\n",
    "    simGain = simGainData[:,1]\n",
    "\n",
    "    phase = data[:,2]\n",
    "    simPhase = simPhaseData[:,1]\n",
    "\n",
    "    fig, axes = plt.subplots(2,1, figsize=(6, 8))\n",
    "\n",
    "    axes[0].errorbar(frequency, gain, yerr=0.1, fmt=\"o\", capsize=3, linewidth=1, label=\"Data\")\n",
    "    axes[0].plot(simGainFrequency, simGain, label=\"Simulation\")\n",
    "    #axes[0].plot(fRange, AnalyticalGain(fRange, 1e3, 1e-6), label=\"Analytical\")\n",
    "    axes[0].set_ylabel(\"Gain (dB)\")\n",
    "    \n",
    "    axes[1].errorbar(frequency, phase, yerr=2, fmt=\"o\", capsize=3, linewidth=1, label=\"Data\")\n",
    "    axes[1].plot(simPhaseFrequency, simPhase, label=\"Simulation\")\n",
    "    #axes[1].plot(fRange, AnalyticalPhase(fRange, 1e3, 1e-6), label=\"Analytical\")\n",
    "    axes[1].set_ylabel(\"Degrees\")\n",
    "\n",
    "    for i in range(len(axes)):\n",
    "        axes[i].set_xlabel(\"Frequency (Hz)\")\n",
    "        axes[i].grid()\n",
    "        axes[i].legend()\n",
    "        axes[i].set_xscale(\"log\")\n",
    "\n",
    "BodePlot(phaseAmpMeasuredData, gainSimData, phaseSimData)"
   ]
  },
  {
   "attachments": {},
   "cell_type": "markdown",
   "metadata": {},
   "source": [
    "# Exercise 12"
   ]
  },
  {
   "cell_type": "code",
   "execution_count": null,
   "metadata": {},
   "outputs": [],
   "source": [
    "ex12SinData = LoadFile(rootPath + r\"/ex12/sinWave.txt\")\n",
    "ex12SinWithCapData = LoadFile(rootPath + r\"/ex12/sinWaveWithCap.txt\")"
   ]
  },
  {
   "cell_type": "code",
   "execution_count": null,
   "metadata": {},
   "outputs": [],
   "source": [
    "# Plotting sin input before capacitor\n",
    "\n",
    "def ex12SinPlot(data):\n",
    "\n",
    "    xValues = [el - min(data[:,0]) for el in data[:,0]]\n",
    "    channel01 = data[:,1]\n",
    "    channel02 = data[:,2]\n",
    "\n",
    "    difference = [-(a + b) for a, b in zip(channel01, channel02)]\n",
    "\n",
    "    plt.plot(xValues, difference)\n",
    "\n",
    "    plt.plot(xValues, channel01)\n",
    "    plt.plot(xValues, channel02)\n"
   ]
  },
  {
   "cell_type": "code",
   "execution_count": null,
   "metadata": {},
   "outputs": [],
   "source": [
    "ex12SinPlot(ex12SinData)"
   ]
  },
  {
   "cell_type": "code",
   "execution_count": null,
   "metadata": {},
   "outputs": [],
   "source": [
    "ex12SinPlot(ex12SinWithCapData)"
   ]
  },
  {
   "attachments": {},
   "cell_type": "markdown",
   "metadata": {},
   "source": [
    "# Exercise 25"
   ]
  },
  {
   "cell_type": "code",
   "execution_count": null,
   "metadata": {},
   "outputs": [],
   "source": [
    "opAmpFrequencyData = LoadFile(rootPath + r\"/ex25/frequencyResponse.txt\")\n",
    "opAmpFrequencyDataWithCapactitor = LoadFile(rootPath + r\"/ex25/frequencyResponseWithCapacitor.txt\")"
   ]
  },
  {
   "cell_type": "code",
   "execution_count": null,
   "metadata": {},
   "outputs": [],
   "source": [
    "plt.plot(opAmpFrequencyData[:,0], opAmpFrequencyData[:,1])\n",
    "plt.xscale(\"log\")"
   ]
  },
  {
   "cell_type": "code",
   "execution_count": null,
   "metadata": {},
   "outputs": [],
   "source": [
    "plt.plot(opAmpFrequencyDataWithCapactitor[:,0], opAmpFrequencyDataWithCapactitor[:,1])\n",
    "plt.xscale(\"log\")"
   ]
  },
  {
   "attachments": {},
   "cell_type": "markdown",
   "metadata": {},
   "source": [
    "# Exercise 27"
   ]
  },
  {
   "cell_type": "code",
   "execution_count": null,
   "metadata": {},
   "outputs": [],
   "source": [
    "i = 0\n",
    "step = -3 / 15\n",
    "count=1\n",
    "print(f\"{0} | {0}\")\n",
    "while i > -3:\n",
    "    print(f\"{count} | {i+step}\")\n",
    "    i+=step\n",
    "    count+=1"
   ]
  },
  {
   "cell_type": "code",
   "execution_count": null,
   "metadata": {},
   "outputs": [],
   "source": []
  }
 ],
 "metadata": {
  "kernelspec": {
   "display_name": "Python 3",
   "language": "python",
   "name": "python3"
  },
  "language_info": {
   "codemirror_mode": {
    "name": "ipython",
    "version": 3
   },
   "file_extension": ".py",
   "mimetype": "text/x-python",
   "name": "python",
   "nbconvert_exporter": "python",
   "pygments_lexer": "ipython3",
   "version": "3.10.9"
  },
  "orig_nbformat": 4,
  "vscode": {
   "interpreter": {
    "hash": "916dbcbb3f70747c44a77c7bcd40155683ae19c65e1c03b4aa3499c5328201f1"
   }
  }
 },
 "nbformat": 4,
 "nbformat_minor": 2
}
